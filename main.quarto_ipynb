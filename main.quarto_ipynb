{
  "cells": [
    {
      "cell_type": "markdown",
      "metadata": {},
      "source": [
        "---\n",
        "title: \"Plots Demo\"\n",
        "author: \"Norah Jones\"\n",
        "date: \"5/22/2021\"\n",
        "format:\n",
        "  html:\n",
        "    code-fold: true\n",
        "jupyter: julia-1.9\n",
        "---\n",
        "\n",
        "\n",
        "### Parametric Plots\n",
        "\n",
        "Plot function pair (x(u), y(u)). \n",
        "See @fig-parametric for an example.\n"
      ],
      "id": "66ed286f"
    },
    {
      "cell_type": "code",
      "metadata": {},
      "source": [
        "#| label: fig-parametric\n",
        "#| fig-cap: Parametric Plots\n",
        "\n",
        "using Plots\n",
        "\n",
        "plot(sin, \n",
        "     x->sin(2x), \n",
        "     0, \n",
        "     2π, \n",
        "     leg=false, \n",
        "     fill=(0,:lavender))"
      ],
      "id": "fig-parametric",
      "execution_count": null,
      "outputs": []
    }
  ],
  "metadata": {
    "kernelspec": {
      "name": "julia-1.9",
      "language": "julia",
      "display_name": "Julia 1.9.3",
      "path": "/home/leo/.local/share/jupyter/kernels/julia-1.9"
    }
  },
  "nbformat": 4,
  "nbformat_minor": 5
}